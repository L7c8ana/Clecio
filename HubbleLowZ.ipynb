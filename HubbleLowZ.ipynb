{
  "nbformat": 4,
  "nbformat_minor": 0,
  "metadata": {
    "colab": {
      "name": "HubbleLowZ.ipynb",
      "provenance": [],
      "collapsed_sections": [],
      "toc_visible": true,
      "include_colab_link": true
    },
    "kernelspec": {
      "display_name": "Python 3",
      "name": "python3"
    }
  },
  "cells": [
    {
      "cell_type": "markdown",
      "metadata": {
        "id": "view-in-github",
        "colab_type": "text"
      },
      "source": [
        "<a href=\"https://colab.research.google.com/github/L7c8ana/Clecio/blob/master/HubbleLowZ.ipynb\" target=\"_parent\"><img src=\"https://colab.research.google.com/assets/colab-badge.svg\" alt=\"Open In Colab\"/></a>"
      ]
    },
    {
      "cell_type": "code",
      "metadata": {
        "id": "blCc5aQDZ4cV"
      },
      "source": [
        "import numpy as np"
      ],
      "execution_count": null,
      "outputs": []
    },
    {
      "cell_type": "markdown",
      "metadata": {
        "id": "eR-GWaIVWitf"
      },
      "source": [
        "# Read text data from a file and plot them.\n",
        "The first step in the present work is not directly related to the statistics problem at hand, but it is quite important: you have to learn how to read in a text file. There are two you can use: hubble_low_z.dat and hubble.dat. The files are lists of supernovae with 3 facts about each: the redshift z, which for our purposes is the recession velocity divided by c (this is true only to leading order in v/c); the distance d in Mpc; and the measurement error on distance, delta-d (also in Mpc). Mpc, or megaparsecs, are the typical distance units in cosmology, equal to 3,261,560 light years.\n",
        "\n"
      ]
    },
    {
      "cell_type": "code",
      "metadata": {
        "colab": {
          "base_uri": "https://localhost:8080/"
        },
        "id": "2dNB527L2oP6",
        "outputId": "b0d6c51e-960f-4d2d-977b-9feb62795bfd"
      },
      "source": [
        "!wget https://physics.princeton.edu//~phy209/week4/hubble_low_z.dat"
      ],
      "execution_count": 1,
      "outputs": [
        {
          "output_type": "stream",
          "text": [
            "--2021-08-09 19:59:52--  https://physics.princeton.edu//~phy209/week4/hubble_low_z.dat\n",
            "Resolving physics.princeton.edu (physics.princeton.edu)... 128.112.100.6\n",
            "Connecting to physics.princeton.edu (physics.princeton.edu)|128.112.100.6|:443... connected.\n",
            "HTTP request sent, awaiting response... 200 OK\n",
            "Length: 395 [text/plain]\n",
            "Saving to: ‘hubble_low_z.dat’\n",
            "\n",
            "\rhubble_low_z.dat      0%[                    ]       0  --.-KB/s               \rhubble_low_z.dat    100%[===================>]     395  --.-KB/s    in 0s      \n",
            "\n",
            "2021-08-09 19:59:52 (20.7 MB/s) - ‘hubble_low_z.dat’ saved [395/395]\n",
            "\n"
          ],
          "name": "stdout"
        }
      ]
    },
    {
      "cell_type": "code",
      "metadata": {
        "colab": {
          "base_uri": "https://localhost:8080/"
        },
        "id": "N8TTWKrVgUQm",
        "outputId": "0ee183ac-828a-4099-a2ce-49f216abfa94"
      },
      "source": [
        "!ls\n"
      ],
      "execution_count": 2,
      "outputs": [
        {
          "output_type": "stream",
          "text": [
            "hubble_low_z.dat  sample_data\n"
          ],
          "name": "stdout"
        }
      ]
    },
    {
      "cell_type": "code",
      "metadata": {
        "id": "gKFtM8mrf46D"
      },
      "source": [
        "# solution to reading 3-column data from a text file.\n",
        "# The function reads in the columns and returns a tuple of 3\n",
        "# numpy arrays.\n",
        "#\n",
        "# Usage is:\n",
        "# z,d,e = read_hubble_data('hubble_low_z.dat')\n",
        "#\n",
        "# It is not very general.  Would you know what to do if the # of\n",
        "# columns weren't given in advance??\n",
        "#\n",
        "import numpy\n",
        "\n",
        "def read_hubble_data(filename):\n",
        "    \"\"\"Open a 3-column file of hubble data\"\"\"\n",
        "\n",
        "    datafile=open(filename,'r')  # 2nd argument says open for reading\n",
        "\n",
        "    z, d, derr = [], [], []\n",
        "    for line in datafile:            # Iterating over a file goes line-by-line\n",
        "        (a,b,c)=line.split()         # split() breaks text at whitespace\n",
        "        z.append( float(a) )\n",
        "        d.append( float(b) )\n",
        "        derr.append( float(c) )\n",
        "\n",
        "    datafile.close()                 # Close the data file\n",
        "    return numpy.array(z), numpy.array(d), numpy.array(derr)\n",
        "\n"
      ],
      "execution_count": 4,
      "outputs": []
    },
    {
      "cell_type": "code",
      "metadata": {
        "colab": {
          "base_uri": "https://localhost:8080/"
        },
        "id": "o3ltyH1_ghGk",
        "outputId": "94fe94b3-bb55-48f1-8e77-3b7012402eee"
      },
      "source": [
        "z,d,derr = read_hubble_data('hubble_low_z.dat')\n",
        "print(z,d,derr)"
      ],
      "execution_count": 8,
      "outputs": [
        {
          "output_type": "stream",
          "text": [
            "[0.014 0.018 0.02  0.026 0.026 0.03  0.036 0.043 0.045 0.05  0.05  0.052\n",
            " 0.063 0.071 0.075 0.079 0.088 0.101] [ 49.356  83.433  68.444 103.59  113.59  112.54  135.31  172.71  209.57\n",
            " 211.51  217.44  202.92  280.11  291.97  305.73  284.01  452.21  427.89 ] [ 5.221  8.059  6.296 11.43  10.45  10.35  13.    14.3   18.31  17.51\n",
            " 20.    16.8   23.19  26.86  28.12  23.51  37.44  45.27 ]\n"
          ],
          "name": "stdout"
        }
      ]
    },
    {
      "cell_type": "code",
      "metadata": {
        "colab": {
          "base_uri": "https://localhost:8080/",
          "height": 295
        },
        "id": "p2VNYkWAgIXU",
        "outputId": "070760de-9b3f-4289-92d1-6f228248014d"
      },
      "source": [
        "# Notice three new features this week\n",
        "# 1. plotting errorbars instead of just points or lines\n",
        "# 2. plotting a function (any valid python or scipy expression depending on x)\n",
        "# 3. drawing to a file.\n",
        "\n",
        "\n",
        "def distance(z):\n",
        "    \"\"\"Convert a redshift into a distance (Mpc) assuming H0=70 km/s Mpc^-1\"\"\"\n",
        "    c=299792.458 # speed of light, km/s.\n",
        "    v=z*c         # First-order approximation.\n",
        "    H0 = 70.      # A possible Hubble constant.\n",
        "    return v/H0   # Distance given the redshift.\n",
        "\n",
        "from pylab import *\n",
        "errorbar(z,d,derr,ecolor='r', fmt='o', label=\"error bars\") # Error bars. Circles at points.  No line\n",
        "xlabel('Redshift z')                   # Axis title and overall title\n",
        "ylabel('Distance (Mpc)')              \n",
        "title('Supernova Hubble Diagram') \n",
        "plot(z,distance(z), color='green', label=\"theory curve\")     # Overplot a theory curve\n",
        "legend(loc='upper left')\n",
        "savefig('sample_hubble.png')"
      ],
      "execution_count": 13,
      "outputs": [
        {
          "output_type": "display_data",
          "data": {
            "image/png": "[encoded data removed]",
            "text/plain": [
              "<Figure size 432x288 with 1 Axes>"
            ]
          },
          "metadata": {
            "tags": [],
            "needs_background": "light"
          }
        }
      ]
    }
  ]
}