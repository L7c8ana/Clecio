{
  "nbformat": 4,
  "nbformat_minor": 0,
  "metadata": {
    "colab": {
      "name": "convolutional_network.ipynb",
      "version": "0.3.2",
      "provenance": []
    },
    "kernelspec": {
      "name": "python3",
      "display_name": "Python 3"
    },
    "accelerator": "GPU"
  },
  "cells": [
    {
      "metadata": {
        "id": "VOxCaP2uK0dz",
        "colab_type": "text"
      },
      "cell_type": "markdown",
      "source": [
        "## CNN Overview\n",
        "\n",
        "![CNN](http://personal.ie.cuhk.edu.hk/~ccloy/project_target_code/images/fig3.png)\n",
        "\n",
        "## MNIST Dataset Overview\n",
        "\n",
        "This example is using MNIST handwritten digits. The dataset contains 60,000 examples for training and 10,000 examples for testing. The digits have been size-normalized and centered in a fixed-size image (28x28 pixels) with values from 0 to 1. For simplicity, each image has been flattened and converted to a 1-D numpy array of 784 features (28*28).\n",
        "\n",
        "![MNIST Dataset](http://neuralnetworksanddeeplearning.com/images/mnist_100_digits.png)\n",
        "\n",
        "More info: http://yann.lecun.com/exdb/mnist/"
      ]
    },
    {
      "metadata": {
        "id": "pB9dKdCYK0d3",
        "colab_type": "code",
        "colab": {}
      },
      "cell_type": "code",
      "source": [
        "# Larger CNN for the MNIST Dataset\n",
        "import numpy\n",
        "import numpy as np\n",
        "import matplotlib.pyplot as plt\n",
        "from keras.datasets import mnist\n",
        "from keras.models import Sequential\n",
        "from keras.layers import Dense\n",
        "from keras.layers import Dropout\n",
        "from keras.layers import Flatten\n",
        "from keras.layers.convolutional import Conv2D\n",
        "from keras.layers.convolutional import MaxPooling2D\n",
        "from keras.utils import np_utils\n",
        "from keras import backend as K\n",
        "K.set_image_dim_ordering('th')\n",
        "# fix random seed for reproducibility\n",
        "seed = 7\n",
        "numpy.random.seed(seed)\n",
        "# load data\n",
        "(X_train, y_train), (X_test, y_test) = mnist.load_data()\n",
        "# reshape to be [samples][pixels][width][height]\n",
        "X_train = X_train.reshape(X_train.shape[0], 1, 28, 28).astype('float32')\n",
        "X_test = X_test.reshape(X_test.shape[0], 1, 28, 28).astype('float32')\n",
        "# normalize inputs from 0-255 to 0-1\n",
        "X_train = X_train / 255\n",
        "X_test = X_test / 255\n",
        "# one hot encode outputs\n",
        "y_train = np_utils.to_categorical(y_train)\n",
        "y_test = np_utils.to_categorical(y_test)\n",
        "num_classes = y_test.shape[1]"
      ],
      "execution_count": 0,
      "outputs": []
    },
    {
      "metadata": {
        "id": "Eauan5YSK0eM",
        "colab_type": "code",
        "colab": {}
      },
      "cell_type": "code",
      "source": [
        "# define the larger model\n",
        "def larger_model():\n",
        "\t# create model\n",
        "\tmodel = Sequential()\n",
        "\tmodel.add(Conv2D(30, (5, 5), input_shape=(1, 28, 28), activation='relu'))\n",
        "\tmodel.add(MaxPooling2D(pool_size=(2, 2)))\n",
        "\tmodel.add(Conv2D(15, (3, 3), activation='relu'))\n",
        "\tmodel.add(MaxPooling2D(pool_size=(2, 2)))\n",
        "\tmodel.add(Dropout(0.2))\n",
        "\tmodel.add(Flatten())\n",
        "\tmodel.add(Dense(128, activation='relu'))\n",
        "\tmodel.add(Dense(50, activation='relu'))\n",
        "\tmodel.add(Dense(num_classes, activation='softmax'))\n",
        "\t# Compile model\n",
        "\tmodel.compile(loss='categorical_crossentropy', optimizer='adam', metrics=['accuracy'])\n",
        "\treturn model"
      ],
      "execution_count": 0,
      "outputs": []
    },
    {
      "metadata": {
        "id": "eSd0g7eAK0eW",
        "colab_type": "code",
        "colab": {
          "base_uri": "https://localhost:8080/",
          "height": 399
        },
        "outputId": "6d804e5f-7313-446e-e41a-ce1cce8eb51f"
      },
      "cell_type": "code",
      "source": [
        "# build the model\n",
        "model = larger_model()\n",
        "# Fit the model\n",
        "model.fit(X_train, y_train, validation_data=(X_test, y_test), epochs=10, batch_size=200)\n"
      ],
      "execution_count": 19,
      "outputs": [
        {
          "output_type": "stream",
          "text": [
            "Train on 60000 samples, validate on 10000 samples\n",
            "Epoch 1/10\n",
            "60000/60000 [==============================] - 5s 77us/step - loss: 0.3903 - acc: 0.8805 - val_loss: 0.0893 - val_acc: 0.9716\n",
            "Epoch 2/10\n",
            "60000/60000 [==============================] - 4s 70us/step - loss: 0.0991 - acc: 0.9698 - val_loss: 0.0552 - val_acc: 0.9827\n",
            "Epoch 3/10\n",
            "60000/60000 [==============================] - 4s 70us/step - loss: 0.0737 - acc: 0.9771 - val_loss: 0.0417 - val_acc: 0.9872\n",
            "Epoch 4/10\n",
            "60000/60000 [==============================] - 4s 70us/step - loss: 0.0603 - acc: 0.9816 - val_loss: 0.0368 - val_acc: 0.9876\n",
            "Epoch 5/10\n",
            "60000/60000 [==============================] - 4s 70us/step - loss: 0.0521 - acc: 0.9835 - val_loss: 0.0356 - val_acc: 0.9885\n",
            "Epoch 6/10\n",
            "60000/60000 [==============================] - 4s 70us/step - loss: 0.0445 - acc: 0.9859 - val_loss: 0.0287 - val_acc: 0.9907\n",
            "Epoch 7/10\n",
            "60000/60000 [==============================] - 4s 70us/step - loss: 0.0390 - acc: 0.9875 - val_loss: 0.0298 - val_acc: 0.9898\n",
            "Epoch 8/10\n",
            "60000/60000 [==============================] - 4s 70us/step - loss: 0.0349 - acc: 0.9887 - val_loss: 0.0279 - val_acc: 0.9905\n",
            "Epoch 9/10\n",
            "60000/60000 [==============================] - 4s 70us/step - loss: 0.0329 - acc: 0.9897 - val_loss: 0.0238 - val_acc: 0.9926\n",
            "Epoch 10/10\n",
            "60000/60000 [==============================] - 4s 70us/step - loss: 0.0305 - acc: 0.9902 - val_loss: 0.0276 - val_acc: 0.9914\n"
          ],
          "name": "stdout"
        },
        {
          "output_type": "execute_result",
          "data": {
            "text/plain": [
              "<keras.callbacks.History at 0x7f1f92ef9710>"
            ]
          },
          "metadata": {
            "tags": []
          },
          "execution_count": 19
        }
      ]
    },
    {
      "metadata": {
        "id": "rMimVxfzK0eg",
        "colab_type": "code",
        "colab": {
          "base_uri": "https://localhost:8080/",
          "height": 34
        },
        "outputId": "628362ad-e678-48d4-c0d3-bfcfc9693d2f"
      },
      "cell_type": "code",
      "source": [
        "# Final evaluation of the model\n",
        "scores = model.evaluate(X_test, y_test, verbose=0)\n",
        "print(\"Large CNN Error: %.2f%%\" % (100-scores[1]*100))"
      ],
      "execution_count": 20,
      "outputs": [
        {
          "output_type": "stream",
          "text": [
            "Large CNN Error: 0.86%\n"
          ],
          "name": "stdout"
        }
      ]
    },
    {
      "metadata": {
        "id": "9VWtxUqnK0e_",
        "colab_type": "code",
        "colab": {
          "base_uri": "https://localhost:8080/",
          "height": 1493
        },
        "outputId": "92293dbf-52d8-421f-e286-abb57d00ee28"
      },
      "cell_type": "code",
      "source": [
        "# Predict single images\n",
        "n_images = 4\n",
        "# Get images from test set\n",
        "test_images = X_test[:n_images]\n",
        "# Predicts\n",
        "# Use the model to predict the images class\n",
        "preds = list(model.predict(test_images))\n",
        "# print(\"Large CNN Error: %.2f%%\" % (100-scores[1]*100))\n",
        "# Display\n",
        "for i in range(n_images):\n",
        "    plt.imshow(np.reshape(test_images[i], [28, 28]), cmap='gray')\n",
        "    plt.show()\n",
        "    print(\"Model prediction:\", preds[i])"
      ],
      "execution_count": 21,
      "outputs": [
        {
          "output_type": "display_data",
          "data": {
            "image/png": "[encoded data removed]",
            "text/plain": [
              "<matplotlib.figure.Figure at 0x7f1f928a7470>"
            ]
          },
          "metadata": {
            "tags": []
          }
        },
        {
          "output_type": "stream",
          "text": [
            "Model prediction: [9.2011634e-09 6.1387290e-08 1.9502431e-06 6.3489970e-06 3.3738388e-09\n",
            " 2.7438233e-08 5.4045827e-11 9.9999130e-01 1.9826597e-08 3.3423805e-07]\n"
          ],
          "name": "stdout"
        },
        {
          "output_type": "display_data",
          "data": {
            "image/png": "[encoded data removed]",
            "text/plain": [
              "<matplotlib.figure.Figure at 0x7f1f927cd0f0>"
            ]
          },
          "metadata": {
            "tags": []
          }
        },
        {
          "output_type": "stream",
          "text": [
            "Model prediction: [1.38564656e-05 1.52538109e-04 9.99832511e-01 8.90526941e-09\n",
            " 1.54688995e-09 3.53254544e-11 5.03006731e-07 1.13748815e-08\n",
            " 6.33954528e-07 5.82216150e-11]\n"
          ],
          "name": "stdout"
        },
        {
          "output_type": "display_data",
          "data": {
            "image/png": "[encoded data removed]",
            "text/plain": [
              "<matplotlib.figure.Figure at 0x7f1f927eeb70>"
            ]
          },
          "metadata": {
            "tags": []
          }
        },
        {
          "output_type": "stream",
          "text": [
            "Model prediction: [1.0038951e-06 9.9993479e-01 2.1417908e-07 4.0503467e-09 4.7084610e-05\n",
            " 3.5452179e-06 6.4489400e-06 1.0343458e-06 3.7367447e-06 2.1345102e-06]\n"
          ],
          "name": "stdout"
        },
        {
          "output_type": "display_data",
          "data": {
            "image/png": "[encoded data removed]",
            "text/plain": [
              "<matplotlib.figure.Figure at 0x7f1f907086d8>"
            ]
          },
          "metadata": {
            "tags": []
          }
        },
        {
          "output_type": "stream",
          "text": [
            "Model prediction: [9.9965775e-01 7.1283184e-09 9.1214503e-07 5.2358951e-07 3.3471372e-07\n",
            " 8.0722339e-06 3.1294004e-04 7.3369733e-08 3.4412176e-06 1.6020978e-05]\n"
          ],
          "name": "stdout"
        }
      ]
    }
  ]
}